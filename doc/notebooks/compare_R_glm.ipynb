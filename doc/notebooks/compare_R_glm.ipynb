{
 "cells": [
  {
   "cell_type": "code",
   "execution_count": 31,
   "metadata": {},
   "outputs": [
    {
     "name": "stdout",
     "output_type": "stream",
     "text": [
      "The rpy2.ipython extension is already loaded. To reload it, use:\n",
      "  %reload_ext rpy2.ipython\n"
     ]
    }
   ],
   "source": [
    "%load_ext rpy2.ipython\n",
    "import regreg.api as rr"
   ]
  },
  {
   "cell_type": "markdown",
   "metadata": {},
   "source": [
    "## Link `probit`"
   ]
  },
  {
   "cell_type": "code",
   "execution_count": 32,
   "metadata": {},
   "outputs": [
    {
     "name": "stdout",
     "output_type": "stream",
     "text": [
      "\n",
      "Call:\n",
      "glm(formula = Y ~ X - 1, family = binomial(\"probit\"))\n",
      "\n",
      "Deviance Residuals: \n",
      "    Min       1Q   Median       3Q      Max  \n",
      "-1.9593  -0.9820  -0.4134   0.9755   1.6839  \n",
      "\n",
      "Coefficients:\n",
      "    Estimate Std. Error z value Pr(>|z|)  \n",
      "X1   -0.3688     0.2208  -1.670   0.0949 .\n",
      "X2   -0.1332     0.2203  -0.605   0.5454  \n",
      "X3   -0.2399     0.2572  -0.933   0.3510  \n",
      "X4    0.1839     0.2279   0.807   0.4196  \n",
      "X5    0.3621     0.2338   1.549   0.1214  \n",
      "X6    0.2775     0.1989   1.395   0.1630  \n",
      "X7   -0.1788     0.2322  -0.770   0.4413  \n",
      "X8   -0.3954     0.2562  -1.543   0.1228  \n",
      "X9    0.3977     0.2703   1.471   0.1413  \n",
      "X10   0.4540     0.2276   1.994   0.0461 *\n",
      "---\n",
      "Signif. codes:  0 ‘***’ 0.001 ‘**’ 0.01 ‘*’ 0.05 ‘.’ 0.1 ‘ ’ 1\n",
      "\n",
      "(Dispersion parameter for binomial family taken to be 1)\n",
      "\n",
      "    Null deviance: 69.315  on 50  degrees of freedom\n",
      "Residual deviance: 55.926  on 40  degrees of freedom\n",
      "AIC: 75.926\n",
      "\n",
      "Number of Fisher Scoring iterations: 5\n",
      "\n"
     ]
    }
   ],
   "source": [
    "%%R -o Y,X,C\n",
    "X = matrix(rnorm(500), 50, 10)\n",
    "Y = rbinom(50, 1, 0.5)\n",
    "M = glm(Y ~ X - 1, family=binomial('probit'))\n",
    "C = coef(M)\n",
    "summary(M)"
   ]
  },
  {
   "cell_type": "code",
   "execution_count": 33,
   "metadata": {
    "collapsed": true
   },
   "outputs": [],
   "source": [
    "loss = rr.glm.probit(X, Y)\n",
    "C2 = loss.solve(tol=1.e-10)"
   ]
  },
  {
   "cell_type": "code",
   "execution_count": 34,
   "metadata": {},
   "outputs": [
    {
     "data": {
      "text/plain": [
       "(array([-0.36878487, -0.13323819, -0.23990429,  0.18393262,  0.36210252,\n",
       "         0.27746801, -0.17879008, -0.3953947 ,  0.39765767,  0.45398592]),\n",
       " array([-0.36879038, -0.13323193, -0.23989592,  0.18393689,  0.36209832,\n",
       "         0.27746836, -0.17879829, -0.3953986 ,  0.39765658,  0.45398477]))"
      ]
     },
     "execution_count": 34,
     "metadata": {},
     "output_type": "execute_result"
    }
   ],
   "source": [
    "C, C2"
   ]
  },
  {
   "cell_type": "code",
   "execution_count": 35,
   "metadata": {},
   "outputs": [
    {
     "data": {
      "text/plain": [
       "(55.925705948440836, 55.925705951354985)"
      ]
     },
     "execution_count": 35,
     "metadata": {},
     "output_type": "execute_result"
    }
   ],
   "source": [
    "2 * loss.smooth_objective(C, 'func'), 2 * loss.smooth_objective(C2, 'func')"
   ]
  },
  {
   "cell_type": "code",
   "execution_count": 36,
   "metadata": {},
   "outputs": [
    {
     "data": {
      "text/plain": [
       "array([-1.68053378e-04,  1.18609636e-04,  1.27505548e-04, -2.53057934e-05,\n",
       "       -1.67687050e-04,  4.53633797e-05, -1.04285729e-04, -2.18604723e-05,\n",
       "       -8.16822238e-05, -1.89460130e-04])"
      ]
     },
     "execution_count": 36,
     "metadata": {},
     "output_type": "execute_result"
    }
   ],
   "source": [
    "loss.smooth_objective(C2, 'grad')"
   ]
  },
  {
   "cell_type": "code",
   "execution_count": 37,
   "metadata": {},
   "outputs": [
    {
     "data": {
      "text/plain": [
       "array([ 3.18289719e-05, -1.21707115e-04,  2.92142065e-05,  1.38455847e-05,\n",
       "       -4.59083187e-06,  6.33645841e-05,  1.09595743e-04,  9.47178953e-05,\n",
       "       -6.99513478e-05, -8.83751668e-05])"
      ]
     },
     "execution_count": 37,
     "metadata": {},
     "output_type": "execute_result"
    }
   ],
   "source": [
    "loss.smooth_objective(C, 'grad')"
   ]
  },
  {
   "cell_type": "markdown",
   "metadata": {},
   "source": [
    "## Link `cloglog`"
   ]
  },
  {
   "cell_type": "code",
   "execution_count": 38,
   "metadata": {},
   "outputs": [
    {
     "name": "stdout",
     "output_type": "stream",
     "text": [
      "\n",
      "Call:\n",
      "glm(formula = Y ~ X - 1, family = binomial(\"cloglog\"))\n",
      "\n",
      "Deviance Residuals: \n",
      "    Min       1Q   Median       3Q      Max  \n",
      "-2.0110  -1.0699   0.1321   0.7322   1.9482  \n",
      "\n",
      "Coefficients:\n",
      "    Estimate Std. Error z value Pr(>|z|)  \n",
      "X1   -0.6406     0.3041  -2.106   0.0352 *\n",
      "X2   -0.4032     0.2376  -1.697   0.0897 .\n",
      "X3    0.1685     0.1947   0.866   0.3867  \n",
      "X4    0.2093     0.2307   0.907   0.3643  \n",
      "X5   -0.1324     0.2297  -0.576   0.5645  \n",
      "X6   -0.3436     0.2634  -1.305   0.1920  \n",
      "X7    0.3387     0.2428   1.395   0.1631  \n",
      "X8    0.3656     0.2657   1.376   0.1689  \n",
      "X9   -0.6436     0.2985  -2.156   0.0311 *\n",
      "X10  -0.3543     0.2180  -1.625   0.1041  \n",
      "---\n",
      "Signif. codes:  0 ‘***’ 0.001 ‘**’ 0.01 ‘*’ 0.05 ‘.’ 0.1 ‘ ’ 1\n",
      "\n",
      "(Dispersion parameter for binomial family taken to be 1)\n",
      "\n",
      "    Null deviance: 71.851  on 50  degrees of freedom\n",
      "Residual deviance: 55.275  on 40  degrees of freedom\n",
      "AIC: 75.275\n",
      "\n",
      "Number of Fisher Scoring iterations: 8\n",
      "\n"
     ]
    }
   ],
   "source": [
    "%%R -o Y,X,C\n",
    "X = matrix(rnorm(500), 50, 10)\n",
    "Y = rbinom(50, 1, 0.5)\n",
    "M = glm(Y ~ X - 1, family=binomial('cloglog'))\n",
    "C = coef(M)\n",
    "summary(M)"
   ]
  },
  {
   "cell_type": "code",
   "execution_count": 39,
   "metadata": {},
   "outputs": [],
   "source": [
    "loss = rr.glm.cloglog(X, Y)\n",
    "C2 = loss.solve(tol=1.e-10)"
   ]
  },
  {
   "cell_type": "code",
   "execution_count": 40,
   "metadata": {},
   "outputs": [
    {
     "data": {
      "text/plain": [
       "(array([-0.64057074, -0.40320169,  0.16850679,  0.20926663, -0.1323834 ,\n",
       "        -0.34360698,  0.33867172,  0.36561369, -0.64362558, -0.35430235]),\n",
       " array([-0.64059848, -0.40320888,  0.16849924,  0.20927054, -0.1324093 ,\n",
       "        -0.34361964,  0.33865911,  0.36558976, -0.64365277, -0.35426964]))"
      ]
     },
     "execution_count": 40,
     "metadata": {},
     "output_type": "execute_result"
    }
   ],
   "source": [
    "C, C2"
   ]
  },
  {
   "cell_type": "code",
   "execution_count": 41,
   "metadata": {},
   "outputs": [
    {
     "data": {
      "text/plain": [
       "(55.275174926571935, 55.27517487406658)"
      ]
     },
     "execution_count": 41,
     "metadata": {},
     "output_type": "execute_result"
    }
   ],
   "source": [
    "2 * loss.smooth_objective(C, 'func'), 2 * loss.smooth_objective(C2, 'func')"
   ]
  },
  {
   "cell_type": "code",
   "execution_count": 42,
   "metadata": {},
   "outputs": [
    {
     "data": {
      "text/plain": [
       "array([ 4.03737690e-05,  2.36166620e-05, -1.33661894e-05, -2.37285600e-06,\n",
       "       -6.52353277e-06,  3.13857689e-05, -2.64990149e-05, -4.34153098e-05,\n",
       "        3.28816646e-05,  2.66122018e-05])"
      ]
     },
     "execution_count": 42,
     "metadata": {},
     "output_type": "execute_result"
    }
   ],
   "source": [
    "loss.smooth_objective(C2, 'grad')"
   ]
  },
  {
   "cell_type": "code",
   "execution_count": 43,
   "metadata": {
    "lines_to_next_cell": 0
   },
   "outputs": [
    {
     "data": {
      "text/plain": [
       "array([ 0.00036263, -0.00018814,  0.00028137,  0.00018124,  0.00053627,\n",
       "        0.00030231,  0.00012495,  0.00015609,  0.00014296, -0.00047055])"
      ]
     },
     "execution_count": 43,
     "metadata": {},
     "output_type": "execute_result"
    }
   ],
   "source": [
    "loss.smooth_objective(C, 'grad')"
   ]
  },
  {
   "cell_type": "code",
   "execution_count": 44,
   "metadata": {},
   "outputs": [
    {
     "data": {
      "text/plain": [
       "array([ 0.45994944, -0.3064    ,  0.26983046, -0.5886095 ,  0.35490335,\n",
       "       -0.93306399, -0.55558359, -0.32031764,  1.01937738, -2.83701305,\n",
       "        0.81263418,  0.19772602,  1.98622414, -1.10262295,  1.27031372,\n",
       "       -1.81754852,  0.40400021,  0.12212089, -2.44061154,  0.93896728,\n",
       "       -1.51683219, -1.23219521,  0.23047716, -0.35329577, -0.24215206,\n",
       "       -0.07035229,  0.53752948,  0.73892848,  0.11000857,  0.62188851,\n",
       "       -0.47366732,  0.01454556,  0.70415937,  0.72646069, -0.80637409,\n",
       "       -0.56522797,  0.80675747, -2.79728884,  0.14659702,  0.23031024,\n",
       "       -2.7328401 , -0.21942741,  0.41488233,  1.29987434,  0.08499953,\n",
       "       -0.10019008, -0.36410409, -0.1050264 , -1.03338384, -1.00531781])"
      ]
     },
     "execution_count": 44,
     "metadata": {},
     "output_type": "execute_result"
    }
   ],
   "source": [
    "X.dot(C)"
   ]
  },
  {
   "cell_type": "code",
   "execution_count": 45,
   "metadata": {},
   "outputs": [
    {
     "data": {
      "text/plain": [
       "3.5073891964646352e-65"
      ]
     },
     "execution_count": 45,
     "metadata": {},
     "output_type": "execute_result"
    }
   ],
   "source": [
    "import numpy as np\n",
    "np.exp(-np.exp(5))"
   ]
  },
  {
   "cell_type": "markdown",
   "metadata": {},
   "source": []
  }
 ],
 "metadata": {
  "jupytext": {
   "cell_metadata_filter": "all,-slideshow",
   "formats": "ipynb,Rmd"
  },
  "kernelspec": {
   "display_name": "Python 3",
   "language": "python",
   "name": "python3"
  },
  "language_info": {
   "codemirror_mode": {
    "name": "ipython",
    "version": 3
   },
   "file_extension": ".py",
   "mimetype": "text/x-python",
   "name": "python",
   "nbconvert_exporter": "python",
   "pygments_lexer": "ipython3",
   "version": "3.6.2"
  }
 },
 "nbformat": 4,
 "nbformat_minor": 2
}
